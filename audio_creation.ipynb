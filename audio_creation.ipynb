{
 "cells": [
  {
   "cell_type": "code",
   "execution_count": 1,
   "id": "2fe9f779-2875-4249-9f09-6a17e44ef627",
   "metadata": {},
   "outputs": [],
   "source": [
    "from pytube import YouTube\n",
    "import pyttsx3\n",
    "import PyPDF2"
   ]
  },
  {
   "cell_type": "code",
   "execution_count": 18,
   "id": "856bb4b4-6978-4c07-afd1-ca41257bf84f",
   "metadata": {},
   "outputs": [],
   "source": [
    "# Function to download audio from YouTube\n",
    "def download_youtube_audio(url):\n",
    "    youtube = YouTube(url)\n",
    "    audio_stream = youtube.streams.get_audio_only()\n",
    "    audio_stream.download()\n",
    "\n",
    "# Function to convert PDF text to audio\n",
    "def pdf_to_audio(pdf_file, output_file_name):\n",
    "    # Open the PDF file\n",
    "    with open(pdf_file, 'rb') as file:\n",
    "        reader = PyPDF2.PdfReader(file)\n",
    "        text = \"\"\n",
    "        # Extract text from each page\n",
    "        for page in range(9, len(reader.pages)):\n",
    "            text += reader.pages[page].extract_text()\n",
    "\n",
    "        # Initialize the text to speech engine\n",
    "        engine = pyttsx3.init()\n",
    "        engine.save_to_file(text, output_file_name)\n",
    "        engine.runAndWait()"
   ]
  },
  {
   "cell_type": "code",
   "execution_count": 19,
   "id": "36157211-8b29-44fd-8422-d8d3290ee819",
   "metadata": {},
   "outputs": [],
   "source": [
    "pdf_to_audio(pdf_file = \"C:\\\\Users\\\\joshu\\\\Downloads\\\\taoofseneca_vol3.pdf\", output_file_name = \"tao_of_seneca_vol3.mp3\")"
   ]
  },
  {
   "cell_type": "code",
   "execution_count": null,
   "id": "6ca33b4c-4d81-4f17-a1c2-e375760df25d",
   "metadata": {},
   "outputs": [],
   "source": []
  }
 ],
 "metadata": {
  "kernelspec": {
   "display_name": "Python 3 (ipykernel)",
   "language": "python",
   "name": "python3"
  },
  "language_info": {
   "codemirror_mode": {
    "name": "ipython",
    "version": 3
   },
   "file_extension": ".py",
   "mimetype": "text/x-python",
   "name": "python",
   "nbconvert_exporter": "python",
   "pygments_lexer": "ipython3",
   "version": "3.10.9"
  }
 },
 "nbformat": 4,
 "nbformat_minor": 5
}
